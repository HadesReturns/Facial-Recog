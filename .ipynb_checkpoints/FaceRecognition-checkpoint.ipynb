{
 "cells": [
  {
   "cell_type": "code",
   "execution_count": 3,
   "metadata": {
    "collapsed": false
   },
   "outputs": [],
   "source": [
    "import os\n",
    "import matplotlib\n",
    "import matplotlib.pyplot as plt\n",
    "%matplotlib inline  \n",
    "from PIL import Image\n",
    "from shutil import copyfile\n",
    "import numpy as np \n",
    "import cv2\n",
    "dir_path = os.getcwd()+'/img/'\n",
    "people=['Vishal Singh','Vijaya Shekhar','Debolina Banerjee','Shailaja Tirkey','Bidisha Mahato','Mimansha Jyoti','Harshit Oswin','Rishabh Maharshee','Mobashshir Jawaid','Sarvagya Mehrotra','Abhishek Ghosh','Ankit Kr. Choudhary']\n",
    "def readFiles(path):\n",
    "    global maxWidth,maxHeight\n",
    "    maxWidth=0\n",
    "    maxHeight=0\n",
    "    for file in os.listdir(path):\n",
    "        if file.endswith('.JPG'):\n",
    "            im=Image.open(path+file)\n",
    "            if im.size[0]>maxWidth :\n",
    "                maxWidth=im.size[0]\n",
    "            if im.size[1]>maxHeight :\n",
    "                maxHeight=im.size[1]\n",
    "    return\n",
    "def processFiles(path):\n",
    "    newpath= os.getcwd()+'/imgproc/'\n",
    "    if not os.path.exists(newpath):\n",
    "        os.makedirs(newpath)\n",
    "    for file in os.listdir(path):\n",
    "        im=Image.new('RGB',(maxWidth,maxHeight),'black')\n",
    "        newname = file.split('.')\n",
    "        if file.endswith('.JPG'):\n",
    "            newIM = Image.open(path+file)\n",
    "            offset = ((maxWidth - newIM.size[0]) / 2, (maxHeight - newIM.size[1]) / 2)\n",
    "            im.paste(newIM,offset)\n",
    "            im.rotate(-90).save(newpath+newname[0]+'proc.JPG')\n",
    "    return\n",
    "def resizeImage(path):\n",
    "    for file in os.listdir(path):\n",
    "        newname = file.split('.')\n",
    "        if file.endswith('.JPG'):\n",
    "            newIM = Image.open(path+file)\n",
    "            im = newIM.resize((128,128))\n",
    "            im.save(path+newname[0]+'.JPG')\n",
    "    return\n",
    "def toGrayscale(path):\n",
    "    for file in os.listdir(path):\n",
    "        if file.endswith('.JPG'):\n",
    "            img= Image.open(path+file).convert('L')\n",
    "            img.save(path+file)\n",
    "    return\n",
    "def trainandtest(path):\n",
    "    traindat= os.getcwd()+'/imgtrain/'\n",
    "    testdat= os.getcwd()+'/imgtest/'\n",
    "    if not os.path.exists(traindat):\n",
    "        os.makedirs(traindat)\n",
    "    if not os.path.exists(testdat):\n",
    "        os.makedirs(testdat)\n",
    "    i=1\n",
    "    for file in os.listdir(path):\n",
    "        if file.endswith('.JPG'):\n",
    "           print file\n",
    "    return\n",
    "def getPixel(path):\n",
    "    result_arr = np.empty((16384,0))\n",
    "    count=0\n",
    "    for file in os.listdir(path):\n",
    "            if file.endswith('.JPG'):\n",
    "                print file\n",
    "                img = Image.open(path+file)\n",
    "                arr=np.array(img.getdata())\n",
    "                flat_arr=arr.ravel()\n",
    "                flat_arr= np.reshape(flat_arr,(flat_arr.size,1))\n",
    "                result_arr=np.append(result_arr,flat_arr,axis=1)\n",
    "                #print result_arr.shape\n",
    "                count+=1\n",
    "    result_arr = np.append(result_arr,np.ones((1,count)),axis=0)\n",
    "    return result_arr\n",
    "def getTarget():\n",
    "    target=np.zeros((84,12))\n",
    "    pos=0\n",
    "    for i in range(84):\n",
    "        target[i][pos]=1\n",
    "        j=i+1\n",
    "        if j%7 == 0:\n",
    "            pos+=1\n",
    "    return target\n",
    "def processFilestest(path):\n",
    "    newpath= path+'/imgproc/'\n",
    "    if not os.path.exists(newpath):\n",
    "        os.makedirs(newpath)\n",
    "    for file in os.listdir(path):\n",
    "        im=Image.new('RGB',(maxWidth,maxHeight),'black')\n",
    "        newname = file.split('.')\n",
    "        if file.endswith('.JPG'):\n",
    "            newIM = Image.open(path+file)\n",
    "            offset = ((maxWidth - newIM.size[0]) / 2, (maxHeight - newIM.size[1]) / 2)\n",
    "            im.paste(newIM,offset)\n",
    "            im.save(newpath+newname[0]+'proc.JPG')\n",
    "    return"
   ]
  },
  {
   "cell_type": "code",
   "execution_count": 5,
   "metadata": {
    "collapsed": false
   },
   "outputs": [
    {
     "name": "stdout",
     "output_type": "stream",
     "text": [
      "shailaja7.JPG\n",
      "shailaja6.JPG\n",
      "moba1.JPG\n",
      "pataya1.JPG\n",
      "pataya3.JPG\n",
      "moba3.JPG\n",
      "shailaja4.JPG\n",
      "shailaja5.JPG\n",
      "moba2.JPG\n",
      "pataya2.JPG\n",
      "pataya6.JPG\n",
      "moba6.JPG\n",
      "shailaja1.JPG\n",
      "moba7.JPG\n",
      "pataya7.JPG\n",
      "pataya5.JPG\n",
      "moba5.JPG\n",
      "shailaja2.JPG\n",
      "shailaja3.JPG\n",
      "moba4.JPG\n",
      "pataya4.JPG\n",
      "maharshee6.JPG\n",
      "debolina6.JPG\n",
      "choudhary3.JPG\n",
      "choudhary2.JPG\n",
      "debolina7.JPG\n",
      "toppo1.JPG\n",
      "maharshee7.JPG\n",
      "maharshee5.JPG\n",
      "toppo3.JPG\n",
      "debolina5.JPG\n",
      "choudhary1.JPG\n",
      "debolina4.JPG\n",
      "toppo2.JPG\n",
      "maharshee4.JPG\n",
      "toppo6.JPG\n",
      "choudhary5.JPG\n",
      "choudhary4.JPG\n",
      "debolina1.JPG\n",
      "toppo7.JPG\n",
      "maharshee1.JPG\n",
      "maharshee3.JPG\n",
      "toppo5.JPG\n",
      "debolina3.JPG\n",
      "choudhary6.JPG\n",
      "choudhary7.JPG\n",
      "debolina2.JPG\n",
      "toppo4.JPG\n",
      "maharshee2.JPG\n",
      "bidisha6.JPG\n",
      "vishal1.JPG\n",
      "bidisha7.JPG\n",
      "bidisha5.JPG\n",
      "vishal3.JPG\n",
      "vishal2.JPG\n",
      "bidisha4.JPG\n",
      "vishal6.JPG\n",
      "bidisha1.JPG\n",
      "vishal7.JPG\n",
      "vishal5.JPG\n",
      "bidisha3.JPG\n",
      "bidisha2.JPG\n",
      "vishal4.JPG\n",
      "mimansha6.JPG\n",
      "sarvagya5.JPG\n",
      "vijaya4.JPG\n",
      "vijaya5.JPG\n",
      "sarvagya4.JPG\n",
      "mimansha7.JPG\n",
      "mimansha5.JPG\n",
      "sarvagya6.JPG\n",
      "vijaya7.JPG\n",
      "vijaya6.JPG\n",
      "sarvagya7.JPG\n",
      "mimansha4.JPG\n",
      "sarvagya3.JPG\n",
      "vijaya2.JPG\n",
      "vijaya3.JPG\n",
      "sarvagya2.JPG\n",
      "mimansha1.JPG\n",
      "mimansha3.JPG\n",
      "vijaya1.JPG\n",
      "sarvagya1.JPG\n",
      "mimansha2.JPG\n"
     ]
    }
   ],
   "source": [
    "abc = getPixel(os.getcwd()+'/imgtrain/')"
   ]
  },
  {
   "cell_type": "code",
   "execution_count": 2,
   "metadata": {
    "collapsed": false
   },
   "outputs": [],
   "source": [
    "readFiles(dir_path)\n",
    "processFiles(dir_path)\n",
    "resizeImage(os.getcwd()+'/imgproc/')\n",
    "toGrayscale(os.getcwd()+'/imgproc/')"
   ]
  },
  {
   "cell_type": "code",
   "execution_count": 7,
   "metadata": {
    "collapsed": true
   },
   "outputs": [],
   "source": [
    "readFiles(dir_path)"
   ]
  },
  {
   "cell_type": "code",
   "execution_count": 9,
   "metadata": {
    "collapsed": false
   },
   "outputs": [],
   "source": [
    "def feedForward():\n",
    "    input_arr=getPixel(os.getcwd()+'/imgtrain/')\n",
    "    input_arr=input_arr/255 #normalise\n",
    "    #print input_arr[147]\n",
    "    alpha=0.000001\n",
    "    weight = np.zeros((16385,12))\n",
    "    target=getTarget()\n",
    "    error=1.1\n",
    "    i=0\n",
    "    while(error>0.1):\n",
    "        y=np.dot(np.transpose(input_arr),weight)\n",
    "        difference = target-y\n",
    "        dele=np.sum(difference)\n",
    "        error=np.sum(np.square(difference))/2\n",
    "        plt.plot(i,error,'r*')\n",
    "        i+=1\n",
    "        #print i\n",
    "        weight=weight+alpha*np.dot(input_arr,difference)\n",
    "    print 'Iterations : ',i\n",
    "    return weight\n",
    "\n",
    "def testFeedForward(weight):\n",
    "    input_arr=getPixel(os.getcwd()+'/imgtest/')\n",
    "    input_arr=input_arr/255 #normalise\n",
    "    y=np.dot(np.transpose(input_arr),weight)\n",
    "    for i in range(input_arr.shape[1]):\n",
    "        k=y[i]\n",
    "        print 'Person is : '+people[np.where(k==np.max(k))[0][0]]\n",
    "    return\n",
    "def realtimetesting(weight):\n",
    "    home = os.getcwd()\n",
    "    i=0\n",
    "    for file in os.listdir(home+'/imgtest/'):\n",
    "        i=i+1\n",
    "    cap = cv2.VideoCapture(0)\n",
    "    while(True):\n",
    "        ret, frame = cap.read()\n",
    "        rgb = cv2.cvtColor(frame, cv2.COLOR_BGR2BGRA)\n",
    "\n",
    "        cv2.imshow('frame', rgb)\n",
    "        if cv2.waitKey(1) & 0xFF == ord('q'):\n",
    "            out = cv2.imwrite(home+'/imgtest/capture'+str(i)+'.JPG', frame)\n",
    "            break\n",
    "\n",
    "    cap.release()\n",
    "    cv2.destroyAllWindows()\n",
    "    newpath=home+'/imgtest/'\n",
    "    processFilestest(newpath)\n",
    "    resizeImage(newpath+'/imgproc/')\n",
    "    toGrayscale(newpath+'/imgproc/')\n",
    "    input_arr=getPixel(newpath+'/imgproc/')\n",
    "    input_arr=input_arr/255 #normalise\n",
    "    y=np.dot(np.transpose(input_arr),weight)\n",
    "    print y\n",
    "    print input_arr.shape\n",
    "    for i in range(input_arr.shape[1]):\n",
    "        k=y[i]\n",
    "        print 'Person is : '+people[np.where(k==np.max(k))[0][0]]\n",
    "    return"
   ]
  },
  {
   "cell_type": "code",
   "execution_count": 10,
   "metadata": {
    "collapsed": false,
    "scrolled": true
   },
   "outputs": [
    {
     "name": "stdout",
     "output_type": "stream",
     "text": [
      "Iterations :  7569\n"
     ]
    },
    {
     "data": {
      "image/png": "[encoded data removed]",
      "text/plain": [
       "<matplotlib.figure.Figure at 0x101e3c850>"
      ]
     },
     "metadata": {},
     "output_type": "display_data"
    }
   ],
   "source": [
    "weight=feedForward()"
   ]
  },
  {
   "cell_type": "code",
   "execution_count": null,
   "metadata": {
    "collapsed": true
   },
   "outputs": [],
   "source": [
    "testFeedForward(weight)"
   ]
  },
  {
   "cell_type": "code",
   "execution_count": 14,
   "metadata": {
    "collapsed": false
   },
   "outputs": [
    {
     "name": "stdout",
     "output_type": "stream",
     "text": [
      "[[ 0.3898937   0.24002084 -0.03513531 -0.25041454 -0.03990203  0.02431693\n",
      "   0.02407554  0.17889209 -0.06095536  0.04203705  0.04496469 -0.06352082]]\n",
      "(16385, 1)\n",
      "Person is : Ankit Singh\n"
     ]
    }
   ],
   "source": [
    "realtimetesting(weight)"
   ]
  },
  {
   "cell_type": "code",
   "execution_count": null,
   "metadata": {
    "collapsed": true
   },
   "outputs": [],
   "source": []
  }
 ],
 "metadata": {
  "kernelspec": {
   "display_name": "Python 2",
   "language": "python",
   "name": "python2"
  },
  "language_info": {
   "codemirror_mode": {
    "name": "ipython",
    "version": 2
   },
   "file_extension": ".py",
   "mimetype": "text/x-python",
   "name": "python",
   "nbconvert_exporter": "python",
   "pygments_lexer": "ipython2",
   "version": "2.7.13"
  }
 },
 "nbformat": 4,
 "nbformat_minor": 0
}
